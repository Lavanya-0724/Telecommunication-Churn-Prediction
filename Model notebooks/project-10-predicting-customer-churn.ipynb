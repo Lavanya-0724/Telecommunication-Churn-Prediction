{
 "cells": [
  {
   "cell_type": "code",
   "execution_count": 1,
   "id": "722b7f31",
   "metadata": {
    "execution": {
     "iopub.execute_input": "2023-12-10T23:03:23.183433Z",
     "iopub.status.busy": "2023-12-10T23:03:23.182986Z",
     "iopub.status.idle": "2023-12-10T23:03:25.496429Z",
     "shell.execute_reply": "2023-12-10T23:03:25.494894Z"
    },
    "papermill": {
     "duration": 2.326486,
     "end_time": "2023-12-10T23:03:25.499420",
     "exception": false,
     "start_time": "2023-12-10T23:03:23.172934",
     "status": "completed"
    },
    "tags": []
   },
   "outputs": [],
   "source": [
    "import pandas as pd\n",
    "import numpy as np\n",
    "import matplotlib.pyplot as plt\n",
    "import seaborn as sns\n",
    "\n",
    "from sklearn.metrics import accuracy_score, roc_auc_score\n",
    "\n",
    "from sklearn.model_selection import (\n",
    "    train_test_split,\n",
    "    TimeSeriesSplit,\n",
    "    KFold,\n",
    "    StratifiedKFold,\n",
    "    GroupKFold,\n",
    "    StratifiedGroupKFold)\n",
    "\n",
    "import warnings\n",
    "warnings.filterwarnings('ignore')"
   ]
  },
  {
   "cell_type": "code",
   "execution_count": 3,
   "id": "c81d8d1e",
   "metadata": {
    "execution": {
     "iopub.execute_input": "2023-12-10T23:03:25.518692Z",
     "iopub.status.busy": "2023-12-10T23:03:25.518091Z",
     "iopub.status.idle": "2023-12-10T23:03:25.589311Z",
     "shell.execute_reply": "2023-12-10T23:03:25.588037Z"
    },
    "papermill": {
     "duration": 0.084044,
     "end_time": "2023-12-10T23:03:25.592151",
     "exception": false,
     "start_time": "2023-12-10T23:03:25.508107",
     "status": "completed"
    },
    "tags": []
   },
   "outputs": [],
   "source": [
    "df = pd.read_csv('WA_Fn-UseC_-Telco-Customer-Churn.csv')"
   ]
  },
  {
   "cell_type": "code",
   "execution_count": 4,
   "id": "7a0cb04d",
   "metadata": {
    "execution": {
     "iopub.execute_input": "2023-12-10T23:03:25.610950Z",
     "iopub.status.busy": "2023-12-10T23:03:25.610485Z",
     "iopub.status.idle": "2023-12-10T23:03:25.616761Z",
     "shell.execute_reply": "2023-12-10T23:03:25.615631Z"
    },
    "papermill": {
     "duration": 0.018718,
     "end_time": "2023-12-10T23:03:25.619358",
     "exception": false,
     "start_time": "2023-12-10T23:03:25.600640",
     "status": "completed"
    },
    "tags": []
   },
   "outputs": [],
   "source": [
    "def remap_column(df):\n",
    "    '''\n",
    "    remap the columns that have Yes/No in rows as 1/0\n",
    "    '''\n",
    "    remap = {'Yes':1,'No':0}\n",
    "    df = df.map(remap)\n",
    "    df = df.astype(int)\n",
    "    return df"
   ]
  },
  {
   "cell_type": "code",
   "execution_count": 5,
   "id": "bc5b9ef9",
   "metadata": {
    "execution": {
     "iopub.execute_input": "2023-12-10T23:03:25.638751Z",
     "iopub.status.busy": "2023-12-10T23:03:25.638313Z",
     "iopub.status.idle": "2023-12-10T23:03:25.648207Z",
     "shell.execute_reply": "2023-12-10T23:03:25.646930Z"
    },
    "papermill": {
     "duration": 0.022708,
     "end_time": "2023-12-10T23:03:25.650770",
     "exception": false,
     "start_time": "2023-12-10T23:03:25.628062",
     "status": "completed"
    },
    "tags": []
   },
   "outputs": [],
   "source": [
    "def clean_data(df):\n",
    "    '''\n",
    "    drop blanks, \n",
    "    reformat objects as floats/ints,\n",
    "    drop ids,\n",
    "    and remap Yes/No (and Gender) columns to booleans\n",
    "    '''\n",
    "    df = df[df['TotalCharges'] != '']\n",
    "    df = df[df['TotalCharges'] != ' ']\n",
    "    \n",
    "    df['TotalCharges'] = df['TotalCharges'].str.strip()\n",
    "    df['TotalCharges'] = df['TotalCharges'].astype(float)\n",
    "    \n",
    "    df['Partner'] = remap_column(df['Partner'])\n",
    "    df['Dependents'] = remap_column(df['Dependents'])\n",
    "    df['PhoneService'] = remap_column(df['PhoneService'])\n",
    "    df['PaperlessBilling'] = remap_column(df['PaperlessBilling'])\n",
    "    df['Churn'] = remap_column(df['Churn'])\n",
    "    \n",
    "    df = df.drop('customerID', axis = 1)\n",
    "    \n",
    "    remap_gender = {'Male':1,'Female':0}\n",
    "    df['gender'] = df['gender'].map(remap_gender)\n",
    "    df['gender'] = df['gender'].astype(int)\n",
    "    \n",
    "    return df"
   ]
  },
  {
   "cell_type": "code",
   "execution_count": 6,
   "id": "413ca97c",
   "metadata": {
    "execution": {
     "iopub.execute_input": "2023-12-10T23:03:25.670219Z",
     "iopub.status.busy": "2023-12-10T23:03:25.669821Z",
     "iopub.status.idle": "2023-12-10T23:03:25.675467Z",
     "shell.execute_reply": "2023-12-10T23:03:25.674331Z"
    },
    "papermill": {
     "duration": 0.018756,
     "end_time": "2023-12-10T23:03:25.678353",
     "exception": false,
     "start_time": "2023-12-10T23:03:25.659597",
     "status": "completed"
    },
    "tags": []
   },
   "outputs": [],
   "source": [
    "test_set = df.iloc[5635:] # for ensemble testing\n",
    "\n",
    "df = df.iloc[:5634] # for weak learners"
   ]
  },
  {
   "cell_type": "code",
   "execution_count": 7,
   "id": "d9f99429",
   "metadata": {
    "execution": {
     "iopub.execute_input": "2023-12-10T23:03:25.698279Z",
     "iopub.status.busy": "2023-12-10T23:03:25.697830Z",
     "iopub.status.idle": "2023-12-10T23:03:25.756947Z",
     "shell.execute_reply": "2023-12-10T23:03:25.755936Z"
    },
    "papermill": {
     "duration": 0.072468,
     "end_time": "2023-12-10T23:03:25.759727",
     "exception": false,
     "start_time": "2023-12-10T23:03:25.687259",
     "status": "completed"
    },
    "tags": []
   },
   "outputs": [],
   "source": [
    "test_set = clean_data(test_set)\n",
    "df = clean_data(df)"
   ]
  },
  {
   "cell_type": "code",
   "execution_count": 8,
   "id": "202b2831",
   "metadata": {
    "execution": {
     "iopub.execute_input": "2023-12-10T23:03:25.779023Z",
     "iopub.status.busy": "2023-12-10T23:03:25.778617Z",
     "iopub.status.idle": "2023-12-10T23:03:25.817926Z",
     "shell.execute_reply": "2023-12-10T23:03:25.816714Z"
    },
    "papermill": {
     "duration": 0.052415,
     "end_time": "2023-12-10T23:03:25.820933",
     "exception": false,
     "start_time": "2023-12-10T23:03:25.768518",
     "status": "completed"
    },
    "tags": []
   },
   "outputs": [],
   "source": [
    "df = pd.get_dummies(df)\n",
    "test_set = pd.get_dummies(test_set)"
   ]
  },
  {
   "cell_type": "code",
   "execution_count": 9,
   "id": "357b8b7e",
   "metadata": {
    "execution": {
     "iopub.execute_input": "2023-12-10T23:03:25.841435Z",
     "iopub.status.busy": "2023-12-10T23:03:25.841009Z",
     "iopub.status.idle": "2023-12-10T23:03:25.860307Z",
     "shell.execute_reply": "2023-12-10T23:03:25.858863Z"
    },
    "papermill": {
     "duration": 0.032639,
     "end_time": "2023-12-10T23:03:25.863182",
     "exception": false,
     "start_time": "2023-12-10T23:03:25.830543",
     "status": "completed"
    },
    "tags": []
   },
   "outputs": [],
   "source": [
    "from sklearn.model_selection import train_test_split\n",
    "\n",
    "# test_set (ensemble set)\n",
    "X1 = test_set.drop('Churn', axis = 1)\n",
    "y1 = test_set['Churn']\n",
    "\n",
    "X1_train, X1_test, y1_train, y1_test = train_test_split(X1, y1, test_size = 0.2, random_state = 7)\n",
    "\n",
    "# train/test one (weak learner set)\n",
    "X = df.drop('Churn', axis = 1)\n",
    "y = df['Churn']\n",
    "\n",
    "X_train, X_test, y_train, y_test = train_test_split(X, y, test_size = 0.2, random_state = 7)"
   ]
  },
  {
   "cell_type": "code",
   "execution_count": 10,
   "id": "3c2af753",
   "metadata": {
    "execution": {
     "iopub.execute_input": "2023-12-10T23:03:25.883051Z",
     "iopub.status.busy": "2023-12-10T23:03:25.882650Z",
     "iopub.status.idle": "2023-12-10T23:03:25.922947Z",
     "shell.execute_reply": "2023-12-10T23:03:25.921815Z"
    },
    "papermill": {
     "duration": 0.05339,
     "end_time": "2023-12-10T23:03:25.925781",
     "exception": false,
     "start_time": "2023-12-10T23:03:25.872391",
     "status": "completed"
    },
    "tags": []
   },
   "outputs": [],
   "source": [
    "from sklearn.preprocessing import RobustScaler\n",
    "# scaling numerical columns of weak learner set\n",
    "\n",
    "scaler = RobustScaler()\n",
    "X_train = scaler.fit_transform(X_train)\n",
    "X_test = scaler.transform(X_test)\n",
    "\n",
    "# for ensemble set, all we need to pass is \"X_test_ensemble = scaler.transform(X_test_ensemble)\"\n",
    "# this is to ensure the robust scaler is utilizing the same instance"
   ]
  },
  {
   "cell_type": "code",
   "execution_count": 11,
   "id": "a80f4835",
   "metadata": {
    "execution": {
     "iopub.execute_input": "2023-12-10T23:03:25.945611Z",
     "iopub.status.busy": "2023-12-10T23:03:25.945185Z",
     "iopub.status.idle": "2023-12-10T23:03:26.971712Z",
     "shell.execute_reply": "2023-12-10T23:03:26.970527Z"
    },
    "papermill": {
     "duration": 1.03949,
     "end_time": "2023-12-10T23:03:26.974337",
     "exception": false,
     "start_time": "2023-12-10T23:03:25.934847",
     "status": "completed"
    },
    "tags": []
   },
   "outputs": [],
   "source": [
    "from sklearn.ensemble import RandomForestClassifier\n",
    "\n",
    "rfc = RandomForestClassifier(random_state = 21)\n",
    "rfc.fit(X_train, y_train)\n",
    "rfc_pred = rfc.predict(X_test)"
   ]
  },
  {
   "cell_type": "code",
   "execution_count": 12,
   "id": "4ff98de2",
   "metadata": {
    "execution": {
     "iopub.execute_input": "2023-12-10T23:03:26.994560Z",
     "iopub.status.busy": "2023-12-10T23:03:26.994157Z",
     "iopub.status.idle": "2023-12-10T23:03:27.002531Z",
     "shell.execute_reply": "2023-12-10T23:03:27.001421Z"
    },
    "papermill": {
     "duration": 0.021241,
     "end_time": "2023-12-10T23:03:27.004904",
     "exception": false,
     "start_time": "2023-12-10T23:03:26.983663",
     "status": "completed"
    },
    "tags": []
   },
   "outputs": [
    {
     "name": "stdout",
     "output_type": "stream",
     "text": [
      "Accuracy: 0.7973333333333333\n"
     ]
    }
   ],
   "source": [
    "# non-cross-validated baseline\n",
    "\n",
    "from sklearn import metrics\n",
    "\n",
    "print('Accuracy:',metrics.accuracy_score(y_test, rfc_pred))"
   ]
  }
 ],
 "metadata": {
  "kaggle": {
   "accelerator": "none",
   "dataSources": [
    {
     "datasetId": 13996,
     "sourceId": 18858,
     "sourceType": "datasetVersion"
    }
   ],
   "dockerImageVersionId": 30615,
   "isGpuEnabled": false,
   "isInternetEnabled": true,
   "language": "python",
   "sourceType": "notebook"
  },
  "kernelspec": {
   "display_name": "Python 3 (ipykernel)",
   "language": "python",
   "name": "python3"
  },
  "language_info": {
   "codemirror_mode": {
    "name": "ipython",
    "version": 3
   },
   "file_extension": ".py",
   "mimetype": "text/x-python",
   "name": "python",
   "nbconvert_exporter": "python",
   "pygments_lexer": "ipython3",
   "version": "3.10.9"
  },
  "papermill": {
   "default_parameters": {},
   "duration": 390.192514,
   "end_time": "2023-12-10T23:09:49.770123",
   "environment_variables": {},
   "exception": null,
   "input_path": "__notebook__.ipynb",
   "output_path": "__notebook__.ipynb",
   "parameters": {},
   "start_time": "2023-12-10T23:03:19.577609",
   "version": "2.4.0"
  }
 },
 "nbformat": 4,
 "nbformat_minor": 5
}
